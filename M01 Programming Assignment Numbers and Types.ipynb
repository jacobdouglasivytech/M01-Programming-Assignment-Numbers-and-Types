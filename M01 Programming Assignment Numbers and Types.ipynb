{
 "cells": [
  {
   "cell_type": "markdown",
   "id": "e85aeba6",
   "metadata": {},
   "source": [
    "3.1 How many Seconds are in an hour?"
   ]
  },
  {
   "cell_type": "code",
   "execution_count": 1,
   "id": "cceef9fa",
   "metadata": {},
   "outputs": [
    {
     "data": {
      "text/plain": [
       "3600"
      ]
     },
     "execution_count": 1,
     "metadata": {},
     "output_type": "execute_result"
    }
   ],
   "source": [
    "60*60"
   ]
  },
  {
   "cell_type": "markdown",
   "id": "03ed7995",
   "metadata": {},
   "source": [
    "3.2 Assign the result from the previous task to variable called seconds_per_hour"
   ]
  },
  {
   "cell_type": "code",
   "execution_count": 2,
   "id": "8fc2e334",
   "metadata": {},
   "outputs": [
    {
     "name": "stdout",
     "output_type": "stream",
     "text": [
      "3600\n"
     ]
    }
   ],
   "source": [
    "seconds_per_hour = Out[1]\n",
    "print(seconds_per_hour)"
   ]
  },
  {
   "cell_type": "markdown",
   "id": "3e8e741b",
   "metadata": {},
   "source": [
    "3.3 How many seconds are in a day? use your seconds_per_hour variable"
   ]
  },
  {
   "cell_type": "code",
   "execution_count": 3,
   "id": "3dd71088",
   "metadata": {},
   "outputs": [
    {
     "data": {
      "text/plain": [
       "86400"
      ]
     },
     "execution_count": 3,
     "metadata": {},
     "output_type": "execute_result"
    }
   ],
   "source": [
    "seconds_per_hour * 24"
   ]
  },
  {
   "cell_type": "markdown",
   "id": "1186e4f0",
   "metadata": {},
   "source": [
    "3.4 Calculate seconds per day again, but this time save the results in a variable called seconds_per_day"
   ]
  },
  {
   "cell_type": "code",
   "execution_count": 4,
   "id": "4cc22849",
   "metadata": {},
   "outputs": [
    {
     "name": "stdout",
     "output_type": "stream",
     "text": [
      "86400\n"
     ]
    }
   ],
   "source": [
    "seconds_per_day = seconds_per_hour * 24\n",
    "print(seconds_per_day)"
   ]
  },
  {
   "cell_type": "markdown",
   "id": "5bd7dbd4",
   "metadata": {},
   "source": [
    "3.5 Divide seconds_per_day by seconds_per_hour. use floating-point / division"
   ]
  },
  {
   "cell_type": "code",
   "execution_count": 7,
   "id": "553ad199",
   "metadata": {},
   "outputs": [
    {
     "name": "stdout",
     "output_type": "stream",
     "text": [
      "24.0\n"
     ]
    }
   ],
   "source": [
    "print(seconds_per_day / seconds_per_hour)"
   ]
  },
  {
   "cell_type": "markdown",
   "id": "3896eb61",
   "metadata": {},
   "source": [
    "3.6 Divide seconds_per_day by seconds_per_hour, using integer // division"
   ]
  },
  {
   "cell_type": "code",
   "execution_count": 8,
   "id": "330091f0",
   "metadata": {},
   "outputs": [
    {
     "name": "stdout",
     "output_type": "stream",
     "text": [
      "24\n"
     ]
    }
   ],
   "source": [
    "print(seconds_per_day // seconds_per_hour)"
   ]
  },
  {
   "cell_type": "markdown",
   "id": "1e340db5",
   "metadata": {},
   "source": [
    "3.6 Did this number agree with the floating-point value from the previous question?\n",
    "\n",
    "Yes floating-point gave me 24.0 while integer divison gave me 24 which was the expected output. "
   ]
  }
 ],
 "metadata": {
  "kernelspec": {
   "display_name": "Python 3 (ipykernel)",
   "language": "python",
   "name": "python3"
  },
  "language_info": {
   "codemirror_mode": {
    "name": "ipython",
    "version": 3
   },
   "file_extension": ".py",
   "mimetype": "text/x-python",
   "name": "python",
   "nbconvert_exporter": "python",
   "pygments_lexer": "ipython3",
   "version": "3.9.13"
  }
 },
 "nbformat": 4,
 "nbformat_minor": 5
}
